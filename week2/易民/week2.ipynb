{
 "cells": [
  {
   "cell_type": "markdown",
   "metadata": {},
   "source": [
    "#### How to calculate GC?\n",
    " $\\frac{G+C}{\\text{length of sequence}}$"
   ]
  },
  {
   "cell_type": "code",
   "execution_count": 1,
   "metadata": {
    "ExecuteTime": {
     "end_time": "2019-01-31T08:12:54.750368Z",
     "start_time": "2019-01-31T08:12:54.744253Z"
    },
    "collapsed": true
   },
   "outputs": [],
   "source": [
    "from collections import Counter"
   ]
  },
  {
   "cell_type": "code",
   "execution_count": 2,
   "metadata": {
    "ExecuteTime": {
     "end_time": "2019-01-31T08:12:55.495241Z",
     "start_time": "2019-01-31T08:12:55.482253Z"
    },
    "collapsed": true
   },
   "outputs": [],
   "source": [
    "def GC_ratio(file):\n",
    "    with open(file,'r') as file:\n",
    "        text = file.readlines()\n",
    "        seq = ''.join(text)\n",
    "    sta = Counter(seq) # counting the freq of every unique string\n",
    "    A = sta['A'] # getting counts of A T C G\n",
    "    T = sta['T']\n",
    "    C = sta['C']\n",
    "    G = sta['G']\n",
    "    \n",
    "    GC = round((G+C)/(A+T+G+C),2)\n",
    "    print('GC of chromosome 1 is', GC)"
   ]
  },
  {
   "cell_type": "code",
   "execution_count": 3,
   "metadata": {
    "ExecuteTime": {
     "end_time": "2019-01-31T08:13:09.162880Z",
     "start_time": "2019-01-31T08:12:56.357542Z"
    }
   },
   "outputs": [
    {
     "name": "stdout",
     "output_type": "stream",
     "text": [
      "GC of chromosome 1 is 0.41\n"
     ]
    }
   ],
   "source": [
    "GC_ratio('/Users/milk/Downloads/chr1.fa')"
   ]
  }
 ],
 "metadata": {
  "hide_input": false,
  "kernelspec": {
   "display_name": "Python 3",
   "language": "python",
   "name": "python3"
  },
  "language_info": {
   "codemirror_mode": {
    "name": "ipython",
    "version": 3
   },
   "file_extension": ".py",
   "mimetype": "text/x-python",
   "name": "python",
   "nbconvert_exporter": "python",
   "pygments_lexer": "ipython3",
   "version": "3.6.8"
  },
  "toc": {
   "base_numbering": 1,
   "nav_menu": {},
   "number_sections": true,
   "sideBar": true,
   "skip_h1_title": false,
   "title_cell": "Table of Contents",
   "title_sidebar": "Contents",
   "toc_cell": false,
   "toc_position": {},
   "toc_section_display": true,
   "toc_window_display": false
  }
 },
 "nbformat": 4,
 "nbformat_minor": 2
}
