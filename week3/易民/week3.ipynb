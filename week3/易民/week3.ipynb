{
 "cells": [
  {
   "cell_type": "code",
   "execution_count": 1,
   "metadata": {
    "ExecuteTime": {
     "end_time": "2019-02-18T05:20:59.359361Z",
     "start_time": "2019-02-18T05:20:59.336154Z"
    }
   },
   "outputs": [
    {
     "name": "stdout",
     "output_type": "stream",
     "text": [
      "Length of CDS region: \u001b[31m3416\u001b[0m bp\n"
     ]
    }
   ],
   "source": [
    "import re\n",
    "with open('../SCU49845.gb') as f: # read file\n",
    "    x = [''.join(re.split(r'\\s+', line.strip())) for line in f.readlines()] # clean up data\n",
    "    cds_region = []\n",
    "    for i in x:                         # getting CDS regions info\n",
    "        if i.startswith('CDS'):\n",
    "            cds_region.append(i)\n",
    "\n",
    "    cds_length = 0\n",
    "    for i in cds_region:                # add the length of all CDS regions together\n",
    "        cds_block_len = re.search(r'(\\d+)\\.\\.(\\d+)', i)\n",
    "        cds_length += int(cds_block_len.group(2))-int(cds_block_len.group(1))+1\n",
    "    \n",
    "    print('Length of CDS region: ' + '\\033[31m'+str(cds_length)+'\\033[0m' + ' bp')"
   ]
  }
 ],
 "metadata": {
  "hide_input": false,
  "kernelspec": {
   "display_name": "Python 3",
   "language": "python",
   "name": "python3"
  },
  "language_info": {
   "codemirror_mode": {
    "name": "ipython",
    "version": 3
   },
   "file_extension": ".py",
   "mimetype": "text/x-python",
   "name": "python",
   "nbconvert_exporter": "python",
   "pygments_lexer": "ipython3",
   "version": "3.6.8"
  },
  "toc": {
   "base_numbering": 1,
   "nav_menu": {},
   "number_sections": true,
   "sideBar": true,
   "skip_h1_title": false,
   "title_cell": "Table of Contents",
   "title_sidebar": "Contents",
   "toc_cell": false,
   "toc_position": {},
   "toc_section_display": true,
   "toc_window_display": false
  }
 },
 "nbformat": 4,
 "nbformat_minor": 2
}
